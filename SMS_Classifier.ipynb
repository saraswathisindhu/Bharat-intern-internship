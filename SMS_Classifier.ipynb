{
  "nbformat": 4,
  "nbformat_minor": 0,
  "metadata": {
    "colab": {
      "provenance": [],
      "authorship_tag": "ABX9TyPVTR6PmT4FgV67Boo4MaL4",
      "include_colab_link": true
    },
    "kernelspec": {
      "name": "python3",
      "display_name": "Python 3"
    },
    "language_info": {
      "name": "python"
    }
  },
  "cells": [
    {
      "cell_type": "markdown",
      "metadata": {
        "id": "view-in-github",
        "colab_type": "text"
      },
      "source": [
        "<a href=\"https://colab.research.google.com/github/saraswathisindhu/Bharat-intern-internship/blob/main/SMS_Classifier.ipynb\" target=\"_parent\"><img src=\"https://colab.research.google.com/assets/colab-badge.svg\" alt=\"Open In Colab\"/></a>"
      ]
    },
    {
      "cell_type": "code",
      "source": [
        "import numpy as np\n",
        "import pandas as pd\n",
        "import matplotlib.pyplot as plt\n",
        "import seaborn as sns\n",
        "import os\n",
        "import scipy as sp\n",
        "import string\n",
        "import warnings\n",
        "warnings.filterwarnings(\"ignore\")\n",
        "%matplotlib inline"
      ],
      "metadata": {
        "id": "yZxSNUvkDWOU"
      },
      "execution_count": null,
      "outputs": []
    },
    {
      "cell_type": "code",
      "source": [
        "df = pd.read_csv(\"/content/spam.csv\",encoding='latin-1')"
      ],
      "metadata": {
        "id": "IMbhy-lVFUQj"
      },
      "execution_count": null,
      "outputs": []
    },
    {
      "cell_type": "code",
      "source": [
        "!pip install pandas\n"
      ],
      "metadata": {
        "colab": {
          "base_uri": "https://localhost:8080/"
        },
        "id": "fxSoHvYrGeoi",
        "outputId": "630aaacd-acca-4433-9002-03983b1e2101"
      },
      "execution_count": null,
      "outputs": [
        {
          "output_type": "stream",
          "name": "stdout",
          "text": [
            "Requirement already satisfied: pandas in /usr/local/lib/python3.10/dist-packages (2.2.1)\n",
            "Requirement already satisfied: numpy<2,>=1.22.4 in /usr/local/lib/python3.10/dist-packages (from pandas) (1.25.2)\n",
            "Requirement already satisfied: python-dateutil>=2.8.2 in /usr/local/lib/python3.10/dist-packages (from pandas) (2.8.2)\n",
            "Requirement already satisfied: pytz>=2020.1 in /usr/local/lib/python3.10/dist-packages (from pandas) (2023.4)\n",
            "Requirement already satisfied: tzdata>=2022.7 in /usr/local/lib/python3.10/dist-packages (from pandas) (2024.1)\n",
            "Requirement already satisfied: six>=1.5 in /usr/local/lib/python3.10/dist-packages (from python-dateutil>=2.8.2->pandas) (1.16.0)\n"
          ]
        }
      ]
    },
    {
      "cell_type": "code",
      "source": [
        "import pandas as pd\n",
        "from sklearn.model_selection import train_test_split\n",
        "from sklearn.feature_extraction.text import TfidfVectorizer\n",
        "from sklearn.naive_bayes import MultinomialNB\n",
        "from sklearn.metrics import accuracy_score, classification_report"
      ],
      "metadata": {
        "id": "Vb0I0ykTGuI-"
      },
      "execution_count": null,
      "outputs": []
    },
    {
      "cell_type": "code",
      "source": [
        "print(df.head())"
      ],
      "metadata": {
        "colab": {
          "base_uri": "https://localhost:8080/"
        },
        "id": "3QmScn4GHRjQ",
        "outputId": "ba63385d-5a35-45c1-da35-92ac49a16434"
      },
      "execution_count": null,
      "outputs": [
        {
          "output_type": "stream",
          "name": "stdout",
          "text": [
            "     v1  \\\n",
            "0  ham    \n",
            "1  ham    \n",
            "2  spam   \n",
            "3  ham    \n",
            "4  ham    \n",
            "\n",
            "                                                                                                                                                            v2  \\\n",
            "0  Go until jurong point, crazy.. Available only in bugis n great world la e buffet... Cine there got amore wat...                                               \n",
            "1  Ok lar... Joking wif u oni...                                                                                                                                 \n",
            "2  Free entry in 2 a wkly comp to win FA Cup final tkts 21st May 2005. Text FA to 87121 to receive entry question(std txt rate)T&C's apply 08452810075over18's   \n",
            "3  U dun say so early hor... U c already then say...                                                                                                             \n",
            "4  Nah I don't think he goes to usf, he lives around here though                                                                                                 \n",
            "\n",
            "  Unnamed: 2 Unnamed: 3 Unnamed: 4  \n",
            "0  NaN        NaN        NaN        \n",
            "1  NaN        NaN        NaN        \n",
            "2  NaN        NaN        NaN        \n",
            "3  NaN        NaN        NaN        \n",
            "4  NaN        NaN        NaN        \n"
          ]
        }
      ]
    },
    {
      "cell_type": "code",
      "source": [
        "print(data)"
      ],
      "metadata": {
        "colab": {
          "base_uri": "https://localhost:8080/"
        },
        "id": "NwGHWtBUG2j7",
        "outputId": "c6a1f9ae-b87a-4a1f-9f7b-a2e5cab54939"
      },
      "execution_count": null,
      "outputs": [
        {
          "output_type": "stream",
          "name": "stdout",
          "text": [
            "        v1  \\\n",
            "0     ham    \n",
            "1     ham    \n",
            "2     spam   \n",
            "3     ham    \n",
            "4     ham    \n",
            "...   ...    \n",
            "5567  spam   \n",
            "5568  ham    \n",
            "5569  ham    \n",
            "5570  ham    \n",
            "5571  ham    \n",
            "\n",
            "                                                                                                                                                                     v2  \\\n",
            "0     Go until jurong point, crazy.. Available only in bugis n great world la e buffet... Cine there got amore wat...                                                     \n",
            "1     Ok lar... Joking wif u oni...                                                                                                                                       \n",
            "2     Free entry in 2 a wkly comp to win FA Cup final tkts 21st May 2005. Text FA to 87121 to receive entry question(std txt rate)T&C's apply 08452810075over18's         \n",
            "3     U dun say so early hor... U c already then say...                                                                                                                   \n",
            "4     Nah I don't think he goes to usf, he lives around here though                                                                                                       \n",
            "...                                                             ...                                                                                                       \n",
            "5567  This is the 2nd time we have tried 2 contact u. U have won the å£750 Pound prize. 2 claim is easy, call 087187272008 NOW1! Only 10p per minute. BT-national-rate.   \n",
            "5568  Will Ì_ b going to esplanade fr home?                                                                                                                               \n",
            "5569  Pity, * was in mood for that. So...any other suggestions?                                                                                                           \n",
            "5570  The guy did some bitching but I acted like i'd be interested in buying something else next week and he gave it to us for free                                       \n",
            "5571  Rofl. Its true to its name                                                                                                                                          \n",
            "\n",
            "     Unnamed: 2 Unnamed: 3 Unnamed: 4  \n",
            "0     NaN        NaN        NaN        \n",
            "1     NaN        NaN        NaN        \n",
            "2     NaN        NaN        NaN        \n",
            "3     NaN        NaN        NaN        \n",
            "4     NaN        NaN        NaN        \n",
            "...   ...        ...        ...        \n",
            "5567  NaN        NaN        NaN        \n",
            "5568  NaN        NaN        NaN        \n",
            "5569  NaN        NaN        NaN        \n",
            "5570  NaN        NaN        NaN        \n",
            "5571  NaN        NaN        NaN        \n",
            "\n",
            "[5572 rows x 5 columns]\n"
          ]
        }
      ]
    },
    {
      "cell_type": "code",
      "source": [
        "df = df.rename(columns={'v1':'label','v2':'Text'})\n",
        "df['label_enc'] = df['label'].map({'ham':0,'spam':1})\n",
        "print(df.head())"
      ],
      "metadata": {
        "colab": {
          "base_uri": "https://localhost:8080/"
        },
        "id": "7EKBjQwnHikh",
        "outputId": "b3a227c8-f79d-4d38-989e-5a966a8148b7"
      },
      "execution_count": null,
      "outputs": [
        {
          "output_type": "stream",
          "name": "stdout",
          "text": [
            "  label  \\\n",
            "0  ham    \n",
            "1  ham    \n",
            "2  spam   \n",
            "3  ham    \n",
            "4  ham    \n",
            "\n",
            "                                                                                                                                                          Text  \\\n",
            "0  Go until jurong point, crazy.. Available only in bugis n great world la e buffet... Cine there got amore wat...                                               \n",
            "1  Ok lar... Joking wif u oni...                                                                                                                                 \n",
            "2  Free entry in 2 a wkly comp to win FA Cup final tkts 21st May 2005. Text FA to 87121 to receive entry question(std txt rate)T&C's apply 08452810075over18's   \n",
            "3  U dun say so early hor... U c already then say...                                                                                                             \n",
            "4  Nah I don't think he goes to usf, he lives around here though                                                                                                 \n",
            "\n",
            "   label_enc  \n",
            "0  0          \n",
            "1  0          \n",
            "2  1          \n",
            "3  0          \n",
            "4  0          \n"
          ]
        }
      ]
    },
    {
      "cell_type": "code",
      "source": [
        "sns.countplot(x=df['label'])\n",
        "plt.show()\n"
      ],
      "metadata": {
        "colab": {
          "base_uri": "https://localhost:8080/",
          "height": 1000
        },
        "id": "1OO-d77FIwhN",
        "outputId": "4648d788-cbf8-46fe-cc56-e1f3408fcd7f"
      },
      "execution_count": null,
      "outputs": [
        {
          "output_type": "stream",
          "name": "stderr",
          "text": [
            "WARNING:matplotlib.font_manager:findfont: Generic family 'serif' not found because none of the following families were found: Ubuntu\n",
            "WARNING:matplotlib.font_manager:findfont: Generic family 'serif' not found because none of the following families were found: Ubuntu\n",
            "WARNING:matplotlib.font_manager:findfont: Generic family 'serif' not found because none of the following families were found: Ubuntu\n",
            "WARNING:matplotlib.font_manager:findfont: Generic family 'serif' not found because none of the following families were found: Ubuntu\n",
            "WARNING:matplotlib.font_manager:findfont: Generic family 'serif' not found because none of the following families were found: Ubuntu\n",
            "WARNING:matplotlib.font_manager:findfont: Generic family 'serif' not found because none of the following families were found: Ubuntu\n",
            "WARNING:matplotlib.font_manager:findfont: Generic family 'serif' not found because none of the following families were found: Ubuntu\n",
            "WARNING:matplotlib.font_manager:findfont: Generic family 'serif' not found because none of the following families were found: Ubuntu\n",
            "WARNING:matplotlib.font_manager:findfont: Generic family 'serif' not found because none of the following families were found: Ubuntu\n",
            "WARNING:matplotlib.font_manager:findfont: Generic family 'serif' not found because none of the following families were found: Ubuntu\n",
            "WARNING:matplotlib.font_manager:findfont: Generic family 'serif' not found because none of the following families were found: Ubuntu\n",
            "WARNING:matplotlib.font_manager:findfont: Generic family 'serif' not found because none of the following families were found: Ubuntu\n",
            "WARNING:matplotlib.font_manager:findfont: Generic family 'serif' not found because none of the following families were found: Ubuntu\n",
            "WARNING:matplotlib.font_manager:findfont: Generic family 'serif' not found because none of the following families were found: Ubuntu\n",
            "WARNING:matplotlib.font_manager:findfont: Generic family 'serif' not found because none of the following families were found: Ubuntu\n",
            "WARNING:matplotlib.font_manager:findfont: Generic family 'serif' not found because none of the following families were found: Ubuntu\n",
            "WARNING:matplotlib.font_manager:findfont: Generic family 'serif' not found because none of the following families were found: Ubuntu\n",
            "WARNING:matplotlib.font_manager:findfont: Generic family 'serif' not found because none of the following families were found: Ubuntu\n",
            "WARNING:matplotlib.font_manager:findfont: Generic family 'serif' not found because none of the following families were found: Ubuntu\n",
            "WARNING:matplotlib.font_manager:findfont: Generic family 'serif' not found because none of the following families were found: Ubuntu\n",
            "WARNING:matplotlib.font_manager:findfont: Generic family 'serif' not found because none of the following families were found: Ubuntu\n",
            "WARNING:matplotlib.font_manager:findfont: Generic family 'serif' not found because none of the following families were found: Ubuntu\n",
            "WARNING:matplotlib.font_manager:findfont: Generic family 'serif' not found because none of the following families were found: Ubuntu\n",
            "WARNING:matplotlib.font_manager:findfont: Generic family 'serif' not found because none of the following families were found: Ubuntu\n",
            "WARNING:matplotlib.font_manager:findfont: Generic family 'serif' not found because none of the following families were found: Ubuntu\n",
            "WARNING:matplotlib.font_manager:findfont: Generic family 'serif' not found because none of the following families were found: Ubuntu\n",
            "WARNING:matplotlib.font_manager:findfont: Generic family 'serif' not found because none of the following families were found: Ubuntu\n",
            "WARNING:matplotlib.font_manager:findfont: Generic family 'serif' not found because none of the following families were found: Ubuntu\n",
            "WARNING:matplotlib.font_manager:findfont: Generic family 'serif' not found because none of the following families were found: Ubuntu\n",
            "WARNING:matplotlib.font_manager:findfont: Generic family 'serif' not found because none of the following families were found: Ubuntu\n",
            "WARNING:matplotlib.font_manager:findfont: Generic family 'serif' not found because none of the following families were found: Ubuntu\n",
            "WARNING:matplotlib.font_manager:findfont: Generic family 'serif' not found because none of the following families were found: Ubuntu\n",
            "WARNING:matplotlib.font_manager:findfont: Generic family 'serif' not found because none of the following families were found: Ubuntu\n",
            "WARNING:matplotlib.font_manager:findfont: Generic family 'serif' not found because none of the following families were found: Ubuntu\n"
          ]
        },
        {
          "output_type": "display_data",
          "data": {
            "text/plain": [
              "<Figure size 640x480 with 1 Axes>"
            ],
            "image/png": "[encoded data removed]"
          },
          "metadata": {}
        }
      ]
    },
    {
      "cell_type": "code",
      "source": [
        "# Find average number of tokens in all sentences\n",
        "avg_words_len=round(sum([len(i.split()) for i in df['Text']])/len(df['Text']))\n",
        "print(avg_words_len)"
      ],
      "metadata": {
        "colab": {
          "base_uri": "https://localhost:8080/"
        },
        "id": "eJ6FeU-oI3aB",
        "outputId": "942a28b8-de3a-4e25-ec35-43e0e525bbdf"
      },
      "execution_count": null,
      "outputs": [
        {
          "output_type": "stream",
          "name": "stdout",
          "text": [
            "15\n"
          ]
        }
      ]
    },
    {
      "cell_type": "code",
      "source": [
        "# Finding Total no of unique words in corpus\n",
        "s = set()\n",
        "for sent in df['Text']:\n",
        "  for word in sent.split():\n",
        "    s.add(word)\n",
        "total_words_length=len(s)\n",
        "print(total_words_length)"
      ],
      "metadata": {
        "colab": {
          "base_uri": "https://localhost:8080/"
        },
        "id": "IDsZqDyQI7aA",
        "outputId": "576d2f91-a8be-4523-aa3d-b2ab6d636ca4"
      },
      "execution_count": null,
      "outputs": [
        {
          "output_type": "stream",
          "name": "stdout",
          "text": [
            "15585\n"
          ]
        }
      ]
    },
    {
      "cell_type": "code",
      "source": [
        "# Splitting data for Training and testing\n",
        "from sklearn.model_selection import train_test_split\n",
        "\n",
        "X, y = np.asanyarray(df['Text']), np.asanyarray(df['label_enc'])\n",
        "new_df = pd.DataFrame({'Text': X, 'label': y})\n",
        "X_train, X_test, y_train, y_test = train_test_split(\n",
        "    new_df['Text'], new_df['label'], test_size=0.2, random_state=42)\n",
        "X_train.shape, y_train.shape, X_test.shape, y_test.shape"
      ],
      "metadata": {
        "colab": {
          "base_uri": "https://localhost:8080/"
        },
        "id": "zFFJ0v8yI_pl",
        "outputId": "50c00371-1505-4c0a-8dad-e11f27cb627e"
      },
      "execution_count": null,
      "outputs": [
        {
          "output_type": "execute_result",
          "data": {
            "text/plain": [
              "((4457,), (4457,), (1115,), (1115,))"
            ]
          },
          "metadata": {},
          "execution_count": 141
        }
      ]
    },
    {
      "cell_type": "code",
      "source": [
        "from sklearn.feature_extraction.text import TfidfVectorizer\n",
        "from sklearn.naive_bayes import MultinomialNB\n",
        "from sklearn.metrics import classification_report,accuracy_score\n",
        "\n",
        "tfidf_vec = TfidfVectorizer().fit(X_train)\n",
        "X_train_vec,X_test_vec = tfidf_vec.transform(X_train),tfidf_vec.transform(X_test)\n",
        "\n",
        "baseline_model = MultinomialNB()\n",
        "baseline_model.fit(X_train_vec,y_train)"
      ],
      "metadata": {
        "colab": {
          "base_uri": "https://localhost:8080/",
          "height": 74
        },
        "id": "Ocm6k1cvJE2X",
        "outputId": "c246b2aa-c802-499f-9475-235337c5fb06"
      },
      "execution_count": null,
      "outputs": [
        {
          "output_type": "execute_result",
          "data": {
            "text/plain": [
              "MultinomialNB(alpha=1.0, class_prior=None, fit_prior=True, force_alpha='warn')"
            ],
            "text/html": [
              "<style>#sk-container-id-1 {color: black;background-color: white;}#sk-container-id-1 pre{padding: 0;}#sk-container-id-1 div.sk-toggleable {background-color: white;}#sk-container-id-1 label.sk-toggleable__label {cursor: pointer;display: block;width: 100%;margin-bottom: 0;padding: 0.3em;box-sizing: border-box;text-align: center;}#sk-container-id-1 label.sk-toggleable__label-arrow:before {content: \"▸\";float: left;margin-right: 0.25em;color: #696969;}#sk-container-id-1 label.sk-toggleable__label-arrow:hover:before {color: black;}#sk-container-id-1 div.sk-estimator:hover label.sk-toggleable__label-arrow:before {color: black;}#sk-container-id-1 div.sk-toggleable__content {max-height: 0;max-width: 0;overflow: hidden;text-align: left;background-color: #f0f8ff;}#sk-container-id-1 div.sk-toggleable__content pre {margin: 0.2em;color: black;border-radius: 0.25em;background-color: #f0f8ff;}#sk-container-id-1 input.sk-toggleable__control:checked~div.sk-toggleable__content {max-height: 200px;max-width: 100%;overflow: auto;}#sk-container-id-1 input.sk-toggleable__control:checked~label.sk-toggleable__label-arrow:before {content: \"▾\";}#sk-container-id-1 div.sk-estimator input.sk-toggleable__control:checked~label.sk-toggleable__label {background-color: #d4ebff;}#sk-container-id-1 div.sk-label input.sk-toggleable__control:checked~label.sk-toggleable__label {background-color: #d4ebff;}#sk-container-id-1 input.sk-hidden--visually {border: 0;clip: rect(1px 1px 1px 1px);clip: rect(1px, 1px, 1px, 1px);height: 1px;margin: -1px;overflow: hidden;padding: 0;position: absolute;width: 1px;}#sk-container-id-1 div.sk-estimator {font-family: monospace;background-color: #f0f8ff;border: 1px dotted black;border-radius: 0.25em;box-sizing: border-box;margin-bottom: 0.5em;}#sk-container-id-1 div.sk-estimator:hover {background-color: #d4ebff;}#sk-container-id-1 div.sk-parallel-item::after {content: \"\";width: 100%;border-bottom: 1px solid gray;flex-grow: 1;}#sk-container-id-1 div.sk-label:hover label.sk-toggleable__label {background-color: #d4ebff;}#sk-container-id-1 div.sk-serial::before {content: \"\";position: absolute;border-left: 1px solid gray;box-sizing: border-box;top: 0;bottom: 0;left: 50%;z-index: 0;}#sk-container-id-1 div.sk-serial {display: flex;flex-direction: column;align-items: center;background-color: white;padding-right: 0.2em;padding-left: 0.2em;position: relative;}#sk-container-id-1 div.sk-item {position: relative;z-index: 1;}#sk-container-id-1 div.sk-parallel {display: flex;align-items: stretch;justify-content: center;background-color: white;position: relative;}#sk-container-id-1 div.sk-item::before, #sk-container-id-1 div.sk-parallel-item::before {content: \"\";position: absolute;border-left: 1px solid gray;box-sizing: border-box;top: 0;bottom: 0;left: 50%;z-index: -1;}#sk-container-id-1 div.sk-parallel-item {display: flex;flex-direction: column;z-index: 1;position: relative;background-color: white;}#sk-container-id-1 div.sk-parallel-item:first-child::after {align-self: flex-end;width: 50%;}#sk-container-id-1 div.sk-parallel-item:last-child::after {align-self: flex-start;width: 50%;}#sk-container-id-1 div.sk-parallel-item:only-child::after {width: 0;}#sk-container-id-1 div.sk-dashed-wrapped {border: 1px dashed gray;margin: 0 0.4em 0.5em 0.4em;box-sizing: border-box;padding-bottom: 0.4em;background-color: white;}#sk-container-id-1 div.sk-label label {font-family: monospace;font-weight: bold;display: inline-block;line-height: 1.2em;}#sk-container-id-1 div.sk-label-container {text-align: center;}#sk-container-id-1 div.sk-container {/* jupyter's `normalize.less` sets `[hidden] { display: none; }` but bootstrap.min.css set `[hidden] { display: none !important; }` so we also need the `!important` here to be able to override the default hidden behavior on the sphinx rendered scikit-learn.org. See: https://github.com/scikit-learn/scikit-learn/issues/21755 */display: inline-block !important;position: relative;}#sk-container-id-1 div.sk-text-repr-fallback {display: none;}</style><div id=\"sk-container-id-1\" class=\"sk-top-container\"><div class=\"sk-text-repr-fallback\"><pre>MultinomialNB(alpha=1.0, class_prior=None, fit_prior=True, force_alpha=&#x27;warn&#x27;)</pre><b>In a Jupyter environment, please rerun this cell to show the HTML representation or trust the notebook. <br />On GitHub, the HTML representation is unable to render, please try loading this page with nbviewer.org.</b></div><div class=\"sk-container\" hidden><div class=\"sk-item\"><div class=\"sk-estimator sk-toggleable\"><input class=\"sk-toggleable__control sk-hidden--visually\" id=\"sk-estimator-id-1\" type=\"checkbox\" checked><label for=\"sk-estimator-id-1\" class=\"sk-toggleable__label sk-toggleable__label-arrow\">MultinomialNB</label><div class=\"sk-toggleable__content\"><pre>MultinomialNB(alpha=1.0, class_prior=None, fit_prior=True, force_alpha=&#x27;warn&#x27;)</pre></div></div></div></div></div>"
            ]
          },
          "metadata": {},
          "execution_count": 142
        }
      ]
    },
    {
      "cell_type": "code",
      "source": [
        "from tensorflow.keras.layers import TextVectorization\n",
        "\n",
        "MAXTOKENS=total_words_length\n",
        "OUTPUTLEN=avg_words_len\n",
        "\n",
        "text_vec = TextVectorization(\n",
        "    max_tokens=MAXTOKENS,\n",
        "    standardize='lower_and_strip_punctuation',\n",
        "    output_mode='int',\n",
        "    output_sequence_length=OUTPUTLEN\n",
        ")\n",
        "text_vec.adapt(X_train)"
      ],
      "metadata": {
        "id": "VO35ZB-vJLf0"
      },
      "execution_count": null,
      "outputs": []
    },
    {
      "cell_type": "code",
      "source": [
        "embedding_layer = layers.Embedding(\n",
        "    input_dim=MAXTOKENS,\n",
        "    output_dim=128,\n",
        "    embeddings_initializer='uniform',\n",
        "    input_length=OUTPUTLEN\n",
        ")"
      ],
      "metadata": {
        "id": "aNfrkCSfJTkr"
      },
      "execution_count": null,
      "outputs": []
    },
    {
      "cell_type": "code",
      "source": [
        "input_layer = layers.Input(shape=(1,), dtype=tf.string)\n",
        "vec_layer = text_vec(input_layer)\n",
        "embedding_layer_model = embedding_layer(vec_layer)\n",
        "x = layers.GlobalAveragePooling1D()(embedding_layer_model)\n",
        "x = layers.Flatten()(x)\n",
        "x = layers.Dense(32, activation='relu')(x)\n",
        "output_layer = layers.Dense(1, activation='sigmoid')(x)\n",
        "model_1 = keras.Model(input_layer, output_layer)\n",
        "\n",
        "model_1.compile(optimizer='adam', loss=keras.losses.BinaryCrossentropy(\n",
        "    label_smoothing=0.5), metrics=['accuracy'])"
      ],
      "metadata": {
        "id": "GgL4F3qWJZ_l"
      },
      "execution_count": null,
      "outputs": []
    },
    {
      "cell_type": "code",
      "source": [
        "\n",
        "from sklearn.metrics import precision_score, recall_score, f1_score\n",
        "\n",
        "def compile_model(model):\n",
        "    '''\n",
        "    simply compile the model with adam optimzer\n",
        "    '''\n",
        "    model.compile(optimizer=keras.optimizers.Adam(),\n",
        "                  loss=keras.losses.BinaryCrossentropy(),\n",
        "                  metrics=['accuracy'])\n",
        "\n",
        "def fit_model(model, epochs, X_train=X_train, y_train=y_train,\n",
        "              X_test=X_test, y_test=y_test):\n",
        "    '''\n",
        "    fit the model with given epochs, train\n",
        "    and test data\n",
        "    '''\n",
        "    history = model.fit(X_train,\n",
        "                        y_train,\n",
        "                        epochs=epochs,\n",
        "                        validation_data=(X_test, y_test),\n",
        "                        validation_steps=int(0.2*len(X_test)))\n",
        "    return history\n",
        "\n",
        "def evaluate_model(model, X, y):\n",
        "    '''\n",
        "    evaluate the model and returns accuracy,\n",
        "    precision, recall and f1-score\n",
        "    '''\n",
        "    y_preds = np.round(model.predict(X))\n",
        "    accuracy = accuracy_score(y, y_preds)\n",
        "    precision = precision_score(y, y_preds)\n",
        "    recall = recall_score(y, y_preds)\n",
        "    f1 = f1_score(y, y_preds)\n",
        "\n",
        "    model_results_dict = {'accuracy': accuracy,\n",
        "                          'precision': precision,\n",
        "                          'recall': recall,\n",
        "                          'f1-score': f1}\n",
        "\n",
        "    return model_results_dict"
      ],
      "metadata": {
        "id": "nu-KvDjtJiz1"
      },
      "execution_count": null,
      "outputs": []
    },
    {
      "cell_type": "code",
      "source": [
        "input_layer = layers.Input(shape=(1,), dtype=tf.string)\n",
        "vec_layer = text_vec(input_layer)\n",
        "embedding_layer_model = embedding_layer(vec_layer)\n",
        "bi_lstm = layers.Bidirectional(layers.LSTM(\n",
        "    64, activation='tanh', return_sequences=True))(embedding_layer_model)\n",
        "lstm = layers.Bidirectional(layers.LSTM(64))(bi_lstm)\n",
        "flatten = layers.Flatten()(lstm)\n",
        "dropout = layers.Dropout(.1)(flatten)\n",
        "x = layers.Dense(32, activation='relu')(dropout)\n",
        "output_layer = layers.Dense(1, activation='sigmoid')(x)\n",
        "model_2 = keras.Model(input_layer, output_layer)\n",
        "\n",
        "compile_model(model_2)  # compile the model\n",
        "history_2 = fit_model(model_2, epochs=5)  # fit the model"
      ],
      "metadata": {
        "colab": {
          "base_uri": "https://localhost:8080/"
        },
        "id": "xeHfCUzfJnku",
        "outputId": "c6090b2c-5612-4397-9193-3cb841f301a7"
      },
      "execution_count": null,
      "outputs": [
        {
          "output_type": "stream",
          "name": "stdout",
          "text": [
            "Epoch 1/5\n",
            "140/140 [==============================] - 38s 199ms/step - loss: 0.1722 - accuracy: 0.9381 - val_loss: 0.0819 - val_accuracy: 0.9749\n",
            "Epoch 2/5\n",
            "140/140 [==============================] - 13s 92ms/step - loss: 0.0289 - accuracy: 0.9928 - val_loss: 0.0832 - val_accuracy: 0.9767\n",
            "Epoch 3/5\n",
            "140/140 [==============================] - 13s 96ms/step - loss: 0.0058 - accuracy: 0.9982 - val_loss: 0.1051 - val_accuracy: 0.9785\n",
            "Epoch 4/5\n",
            "140/140 [==============================] - 18s 126ms/step - loss: 3.7807e-04 - accuracy: 1.0000 - val_loss: 0.1173 - val_accuracy: 0.9794\n",
            "Epoch 5/5\n",
            "140/140 [==============================] - 12s 89ms/step - loss: 5.4840e-05 - accuracy: 1.0000 - val_loss: 0.1258 - val_accuracy: 0.9785\n"
          ]
        }
      ]
    },
    {
      "cell_type": "code",
      "source": [
        "import tensorflow_hub as hub\n",
        "\n",
        "# model with Sequential api\n",
        "model_3 = keras.Sequential()\n",
        "\n",
        "# universal-sentence-encoder layer\n",
        "# directly from tfhub\n",
        "use_layer = hub.KerasLayer(\"https://tfhub.dev/google/universal-sentence-encoder/4\",\n",
        "\t\t\t\t\t\ttrainable=False,\n",
        "\t\t\t\t\t\tinput_shape=[],\n",
        "\t\t\t\t\t\tdtype=tf.string,\n",
        "\t\t\t\t\t\tname='USE')\n",
        "model_3.add(use_layer)\n",
        "model_3.add(layers.Dropout(0.2))\n",
        "model_3.add(layers.Dense(64, activation=keras.activations.relu))\n",
        "model_3.add(layers.Dense(1, activation=keras.activations.sigmoid))\n",
        "\n",
        "compile_model(model_3)\n",
        "\n",
        "history_3 = fit_model(model_3, epochs=5)\n"
      ],
      "metadata": {
        "colab": {
          "base_uri": "https://localhost:8080/"
        },
        "id": "ObuHHw7SJrZx",
        "outputId": "1bf1506c-c153-4e91-b983-db05a9f7eff2"
      },
      "execution_count": null,
      "outputs": [
        {
          "output_type": "stream",
          "name": "stdout",
          "text": [
            "Epoch 1/5\n",
            "140/140 [==============================] - 6s 26ms/step - loss: 0.2861 - accuracy: 0.9186 - val_loss: 0.1116 - val_accuracy: 0.9695\n",
            "Epoch 2/5\n",
            "140/140 [==============================] - 3s 24ms/step - loss: 0.0786 - accuracy: 0.9776 - val_loss: 0.0707 - val_accuracy: 0.9767\n",
            "Epoch 3/5\n",
            "140/140 [==============================] - 4s 28ms/step - loss: 0.0557 - accuracy: 0.9829 - val_loss: 0.0569 - val_accuracy: 0.9830\n",
            "Epoch 4/5\n",
            "140/140 [==============================] - 5s 32ms/step - loss: 0.0453 - accuracy: 0.9863 - val_loss: 0.0513 - val_accuracy: 0.9830\n",
            "Epoch 5/5\n",
            "140/140 [==============================] - 3s 21ms/step - loss: 0.0407 - accuracy: 0.9872 - val_loss: 0.0507 - val_accuracy: 0.9830\n"
          ]
        }
      ]
    },
    {
      "cell_type": "code",
      "source": [
        "baseline_model_results = evaluate_model(baseline_model, X_test_vec, y_test)\n",
        "model_1_results = evaluate_model(model_1, X_test, y_test)\n",
        "model_2_results = evaluate_model(model_2, X_test, y_test)\n",
        "model_3_results = evaluate_model(model_3, X_test, y_test)\n",
        "\n",
        "total_results = pd.DataFrame({'MultinomialNB Model':baseline_model_results,\n",
        "                             'Custom-Vec-Embedding Model':model_1_results,\n",
        "                             'Bidirectional-LSTM Model':model_2_results,\n",
        "                             'USE-Transfer learning Model':model_3_results}).transpose()\n",
        "\n",
        "print(total_results)"
      ],
      "metadata": {
        "colab": {
          "base_uri": "https://localhost:8080/"
        },
        "id": "4a38AQupKwPJ",
        "outputId": "2e28c13b-49eb-4479-a93a-dcb7cf07d3b2"
      },
      "execution_count": null,
      "outputs": [
        {
          "output_type": "stream",
          "name": "stdout",
          "text": [
            "35/35 [==============================] - 0s 5ms/step\n",
            "35/35 [==============================] - 1s 27ms/step\n",
            "35/35 [==============================] - 1s 24ms/step\n",
            "                             accuracy  precision    recall  f1-score\n",
            "MultinomialNB Model          0.962332  1.000000   0.720000  0.837209\n",
            "Custom-Vec-Embedding Model   0.238565  0.101482   0.593333  0.173320\n",
            "Bidirectional-LSTM Model     0.978475  0.943662   0.893333  0.917808\n",
            "USE-Transfer learning Model  0.982960  0.958042   0.913333  0.935154\n"
          ]
        }
      ]
    }
  ]
}